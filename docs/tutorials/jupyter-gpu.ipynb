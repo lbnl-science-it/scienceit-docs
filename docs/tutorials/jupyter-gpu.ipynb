{
 "cells": [
  {
   "cell_type": "markdown",
   "id": "3c8781d5-a79d-4eb5-a326-abd677c2238c",
   "metadata": {},
   "source": [
    "# Using Jupyter on GPU\n",
    "\n",
    "* If the import of tensorflow fails, then make sure that you have chosen the appropriate jupyter kernel.\n",
    "\n",
    "### Import modules and check versions"
   ]
  },
  {
   "cell_type": "code",
   "execution_count": 10,
   "id": "eeceffb9-313f-4bb8-ae51-12bfa33f41fa",
   "metadata": {
    "tags": []
   },
   "outputs": [],
   "source": [
    "import sys\n",
    "import numpy as np\n",
    "import tensorflow as tf"
   ]
  },
  {
   "cell_type": "code",
   "execution_count": 11,
   "id": "c373dba4-abe1-40bc-8cf2-aa6c3dfc7f19",
   "metadata": {
    "tags": []
   },
   "outputs": [
    {
     "name": "stdout",
     "output_type": "stream",
     "text": [
      "3.10.10 | packaged by conda-forge | (main, Mar 24 2023, 20:08:06) [GCC 11.3.0]\n"
     ]
    }
   ],
   "source": [
    "print (sys.version)"
   ]
  },
  {
   "cell_type": "code",
   "execution_count": 12,
   "id": "7267219d-bf6d-43e8-9204-2980e19c812a",
   "metadata": {
    "tags": []
   },
   "outputs": [
    {
     "name": "stdout",
     "output_type": "stream",
     "text": [
      "2.15.0\n"
     ]
    }
   ],
   "source": [
    "print (tf.__version__)"
   ]
  },
  {
   "cell_type": "markdown",
   "id": "fd070ea2-4271-422f-adfc-dda546917663",
   "metadata": {},
   "source": [
    "### Test if Tensorflow can access a GPU"
   ]
  },
  {
   "cell_type": "code",
   "execution_count": 13,
   "id": "a480ac3b-b4ca-4f92-9233-92a112420b9a",
   "metadata": {
    "tags": []
   },
   "outputs": [
    {
     "data": {
      "text/plain": [
       "[PhysicalDevice(name='/physical_device:GPU:0', device_type='GPU')]"
      ]
     },
     "execution_count": 13,
     "metadata": {},
     "output_type": "execute_result"
    }
   ],
   "source": [
    "tf.config.list_physical_devices('GPU')"
   ]
  },
  {
   "cell_type": "code",
   "execution_count": 14,
   "id": "6e6ec8db-3a4d-4594-ad5e-dbf260b3dd3c",
   "metadata": {
    "tags": []
   },
   "outputs": [
    {
     "name": "stdout",
     "output_type": "stream",
     "text": [
      "/device:GPU:0\n"
     ]
    },
    {
     "name": "stderr",
     "output_type": "stream",
     "text": [
      "2024-02-08 09:33:51.770011: I tensorflow/core/common_runtime/gpu/gpu_device.cc:1929] Created device /device:GPU:0 with 9776 MB memory:  -> device: 0, name: NVIDIA GeForce RTX 2080 Ti, pci bus id: 0000:3b:00.0, compute capability: 7.5\n"
     ]
    }
   ],
   "source": [
    "device_name = tf.test.gpu_device_name()\n",
    "print (device_name)"
   ]
  },
  {
   "cell_type": "markdown",
   "id": "4733ca94-17b8-48ac-b876-65e0f490aace",
   "metadata": {
    "tags": []
   },
   "source": [
    "### Run a simple example from Tensorflow tutorials\n",
    "\n",
    "The beginner tutorial can be found at: https://www.tensorflow.org/tutorials/quickstart/beginner\n",
    "\n",
    "#### Load a dataset"
   ]
  },
  {
   "cell_type": "code",
   "execution_count": 15,
   "id": "22aec730-dd8a-4cec-a810-59ab5d82ffca",
   "metadata": {},
   "outputs": [],
   "source": [
    "mnist = tf.keras.datasets.mnist\n",
    "(x_train, y_train), (x_test, y_test) = mnist.load_data()\n",
    "x_train, x_test = x_train / 255.0, x_test / 255.0"
   ]
  },
  {
   "cell_type": "markdown",
   "id": "621a064f-4239-4b6e-8b34-92e6c1877d17",
   "metadata": {
    "tags": []
   },
   "source": [
    "#### Build a machine learning model"
   ]
  },
  {
   "cell_type": "code",
   "execution_count": 16,
   "id": "93b4c8d3-5934-410d-9533-3951c920eabc",
   "metadata": {
    "tags": []
   },
   "outputs": [],
   "source": [
    "model = tf.keras.models.Sequential([\n",
    "  tf.keras.layers.Flatten(input_shape=(28, 28)),\n",
    "  tf.keras.layers.Dense(128, activation='relu'),\n",
    "  tf.keras.layers.Dropout(0.2),\n",
    "  tf.keras.layers.Dense(10)\n",
    "])\n",
    "\n",
    "loss_fn = tf.keras.losses.SparseCategoricalCrossentropy(from_logits=True)\n",
    "model.compile(optimizer='adam', loss=loss_fn, metrics=['accuracy'])"
   ]
  },
  {
   "cell_type": "markdown",
   "id": "6366fca8-64b3-459a-a49e-48fe0f215ee3",
   "metadata": {},
   "source": [
    "#### Train your model"
   ]
  },
  {
   "cell_type": "code",
   "execution_count": 17,
   "id": "3c55b2f8-08fb-47d7-966c-51192e07d7d2",
   "metadata": {
    "tags": []
   },
   "outputs": [
    {
     "name": "stdout",
     "output_type": "stream",
     "text": [
      "Epoch 1/5\n",
      "1875/1875 [==============================] - 11s 5ms/step - loss: 0.2947 - accuracy: 0.9147\n",
      "Epoch 2/5\n",
      "1875/1875 [==============================] - 10s 5ms/step - loss: 0.1429 - accuracy: 0.9578\n",
      "Epoch 3/5\n",
      "1875/1875 [==============================] - 10s 5ms/step - loss: 0.1066 - accuracy: 0.9678\n",
      "Epoch 4/5\n",
      "1875/1875 [==============================] - 10s 5ms/step - loss: 0.0890 - accuracy: 0.9725\n",
      "Epoch 5/5\n",
      "1875/1875 [==============================] - 10s 5ms/step - loss: 0.0748 - accuracy: 0.9766\n"
     ]
    },
    {
     "data": {
      "text/plain": [
       "<keras.src.callbacks.History at 0x2b2e31914580>"
      ]
     },
     "execution_count": 17,
     "metadata": {},
     "output_type": "execute_result"
    }
   ],
   "source": [
    "model.fit(x_train, y_train, epochs=5)"
   ]
  },
  {
   "cell_type": "markdown",
   "id": "5a6dcc64-514c-47eb-ad03-a1f0996c4345",
   "metadata": {},
   "source": [
    "#### Evaluate your model"
   ]
  },
  {
   "cell_type": "code",
   "execution_count": 18,
   "id": "9c00a706-1e1b-4157-b6a9-990bf185d377",
   "metadata": {
    "tags": []
   },
   "outputs": [
    {
     "name": "stdout",
     "output_type": "stream",
     "text": [
      "313/313 - 1s - loss: 0.0775 - accuracy: 0.9751 - 1s/epoch - 4ms/step\n"
     ]
    },
    {
     "data": {
      "text/plain": [
       "[0.07746326178312302, 0.9750999808311462]"
      ]
     },
     "execution_count": 18,
     "metadata": {},
     "output_type": "execute_result"
    }
   ],
   "source": [
    "model.evaluate(x_test, y_test, verbose=2)"
   ]
  }
 ],
 "metadata": {
  "kernelspec": {
   "display_name": "Python 3.10.10 (TF-12.5)",
   "language": "python",
   "name": "python3.10.10"
  },
  "language_info": {
   "codemirror_mode": {
    "name": "ipython",
    "version": 3
   },
   "file_extension": ".py",
   "mimetype": "text/x-python",
   "name": "python",
   "nbconvert_exporter": "python",
   "pygments_lexer": "ipython3",
   "version": "3.10.10"
  }
 },
 "nbformat": 4,
 "nbformat_minor": 5
}
